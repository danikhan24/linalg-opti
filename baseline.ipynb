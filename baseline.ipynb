{
 "cells": [
  {
   "cell_type": "code",
   "execution_count": 1,
   "id": "f5cabf2b-25db-426d-b845-90320c2ece3d",
   "metadata": {},
   "outputs": [],
   "source": [
    "import numpy as np\n",
    "import pandas as pd\n",
    "import matplotlib.pyplot as plt\n",
    "\n",
    "def load_data(split_xy=True):\n",
    "    heart = pd.read_csv(\"heart.csv\", header=None)\n",
    "    heart.loc[heart[13] < 1, 13] = 0\n",
    "    heart = heart.to_numpy()\n",
    "    \n",
    "    #heart = pd.read_csv(\"heart.csv\", header=None).to_numpy()\n",
    "    if split_xy:\n",
    "        return heart[:,:-1], heart[:,-1]\n",
    "    else:\n",
    "        return heart\n",
    "\n",
    "X, y = load_data()"
   ]
  },
  {
   "cell_type": "code",
   "execution_count": 2,
   "id": "c2c8627e-f696-4da5-99a9-b3b4564c979b",
   "metadata": {},
   "outputs": [
    {
     "data": {
      "text/plain": [
       "array([[70.,  1.,  4., ...,  2.,  3.,  3.],\n",
       "       [67.,  0.,  3., ...,  2.,  0.,  7.],\n",
       "       [57.,  1.,  2., ...,  1.,  0.,  7.],\n",
       "       ...,\n",
       "       [56.,  0.,  2., ...,  2.,  0.,  3.],\n",
       "       [57.,  1.,  4., ...,  2.,  0.,  6.],\n",
       "       [67.,  1.,  4., ...,  2.,  3.,  3.]])"
      ]
     },
     "execution_count": 2,
     "metadata": {},
     "output_type": "execute_result"
    }
   ],
   "source": [
    "X"
   ]
  },
  {
   "cell_type": "code",
   "execution_count": 3,
   "id": "0da42ab2-638b-40e5-97f0-c14ca9fa0f36",
   "metadata": {},
   "outputs": [
    {
     "data": {
      "text/plain": [
       "(270, 13)"
      ]
     },
     "execution_count": 3,
     "metadata": {},
     "output_type": "execute_result"
    }
   ],
   "source": [
    "X.shape"
   ]
  },
  {
   "cell_type": "code",
   "execution_count": 4,
   "id": "72fa1e59-3a8c-44aa-b656-a5d0a93d3440",
   "metadata": {},
   "outputs": [
    {
     "data": {
      "text/plain": [
       "array([0., 1., 0., 1., 1., 1., 0., 0., 0., 0.])"
      ]
     },
     "execution_count": 4,
     "metadata": {},
     "output_type": "execute_result"
    }
   ],
   "source": [
    "y[:10]"
   ]
  },
  {
   "cell_type": "code",
   "execution_count": 5,
   "id": "dc27636d-1ad9-41c1-87ab-5ea514eb787d",
   "metadata": {},
   "outputs": [
    {
     "data": {
      "text/plain": [
       "(270,)"
      ]
     },
     "execution_count": 5,
     "metadata": {},
     "output_type": "execute_result"
    }
   ],
   "source": [
    "y.shape"
   ]
  },
  {
   "cell_type": "code",
   "execution_count": 6,
   "id": "583fce26-33d8-424f-a55c-307ae14fe8b7",
   "metadata": {},
   "outputs": [
    {
     "data": {
      "text/plain": [
       "(array([0., 1.]), array([120, 150]))"
      ]
     },
     "execution_count": 6,
     "metadata": {},
     "output_type": "execute_result"
    }
   ],
   "source": [
    "np.unique(y, return_counts=True)"
   ]
  },
  {
   "cell_type": "code",
   "execution_count": 7,
   "id": "0f985124-152d-47e4-bd3e-5f62304bb30b",
   "metadata": {},
   "outputs": [
    {
     "name": "stdout",
     "output_type": "stream",
     "text": [
      "4 out of 9 patients has a heart disease, 5 out 9 don't\n"
     ]
    }
   ],
   "source": [
    "print(\"4 out of 9 patients has a heart disease, 5 out 9 don't\")"
   ]
  },
  {
   "cell_type": "code",
   "execution_count": 8,
   "id": "10ab51a6-c0a2-4691-8338-03c1170e6a9f",
   "metadata": {},
   "outputs": [
    {
     "data": {
      "text/plain": [
       "<matplotlib.legend.Legend at 0x1330b2ee0>"
      ]
     },
     "execution_count": 8,
     "metadata": {},
     "output_type": "execute_result"
    },
    {
     "data": {
      "image/png": "[encoded data removed]",
      "text/plain": [
       "<Figure size 432x288 with 1 Axes>"
      ]
     },
     "metadata": {
      "needs_background": "light"
     },
     "output_type": "display_data"
    }
   ],
   "source": [
    "from sklearn.decomposition import PCA\n",
    "\n",
    "pca = PCA(n_components=2).fit_transform(X)\n",
    "plt.scatter(pca.T[0][y == 1], pca.T[1][y == 1], label=\"positive\")\n",
    "plt.scatter(pca.T[0][y == 0], pca.T[1][y == 0], color=\"red\", label=\"negative\")\n",
    "plt.legend()"
   ]
  },
  {
   "cell_type": "markdown",
   "id": "736eff24-7ac3-4b4b-8b60-2061eb9983df",
   "metadata": {},
   "source": [
    "# With packages"
   ]
  },
  {
   "cell_type": "code",
   "execution_count": 9,
   "id": "fba21b1e-bcf0-489a-82ca-8c8b59fac03f",
   "metadata": {},
   "outputs": [
    {
     "name": "stderr",
     "output_type": "stream",
     "text": [
      "/Users/danish/Documents/linalg-opti/venv/lib/python3.9/site-packages/tqdm/auto.py:22: TqdmWarning: IProgress not found. Please update jupyter and ipywidgets. See https://ipywidgets.readthedocs.io/en/stable/user_install.html\n",
      "  from .autonotebook import tqdm as notebook_tqdm\n"
     ]
    }
   ],
   "source": [
    "import torch\n",
    "from torch import nn, optim\n",
    "from torch.nn.modules import Module\n",
    "from torch.utils.data import Dataset, DataLoader"
   ]
  },
  {
   "cell_type": "code",
   "execution_count": 10,
   "id": "790fc892-14f9-4d03-b80c-4d7a0db9772d",
   "metadata": {},
   "outputs": [],
   "source": [
    "from sklearn.model_selection import train_test_split\n",
    "from sklearn.preprocessing import StandardScaler    \n",
    "\n",
    "\n",
    "X,y = load_data(split_xy=True)\n",
    "X_train, X_test, y_train, y_test = train_test_split(X, y, \n",
    "                                                    test_size=0.25,\n",
    "                                                    random_state=42,\n",
    "                                                    stratify=y)\n",
    "\n",
    "scaler = StandardScaler()\n",
    "X_train = scaler.fit_transform(X_train)\n",
    "X_test = scaler.transform(X_test)"
   ]
  },
  {
   "cell_type": "code",
   "execution_count": 11,
   "id": "ea31da38-a55f-4be2-a83c-246b62f8644d",
   "metadata": {},
   "outputs": [
    {
     "data": {
      "text/plain": [
       "(array([0., 1.]), array([ 90, 112]))"
      ]
     },
     "execution_count": 11,
     "metadata": {},
     "output_type": "execute_result"
    }
   ],
   "source": [
    "np.unique(y_train, return_counts=True)"
   ]
  },
  {
   "cell_type": "code",
   "execution_count": 12,
   "id": "c39a26d8-562b-4cfb-8e21-715463711591",
   "metadata": {},
   "outputs": [],
   "source": [
    "class TrainData(Dataset):\n",
    "    \n",
    "    def __init__(self, X_data, y_data):\n",
    "        self.X_data = X_data\n",
    "        self.y_data = y_data\n",
    "        \n",
    "    def __getitem__(self, index):\n",
    "        return self.X_data[index], self.y_data[index]\n",
    "        \n",
    "    def __len__ (self):\n",
    "        return len(self.X_data)\n",
    "\n",
    "\n",
    "train_data = TrainData(torch.FloatTensor(X_train), \n",
    "                       torch.FloatTensor(y_train))\n",
    "   \n",
    "class TestData(Dataset):\n",
    "    \n",
    "    def __init__(self, X_data):\n",
    "        self.X_data = X_data\n",
    "        \n",
    "    def __getitem__(self, index):\n",
    "        return self.X_data[index]\n",
    "        \n",
    "    def __len__ (self):\n",
    "        return len(self.X_data)\n",
    "    \n",
    "\n",
    "test_data = TestData(torch.FloatTensor(X_test))"
   ]
  },
  {
   "cell_type": "code",
   "execution_count": 13,
   "id": "47f0c1f1-ef0c-4d23-8468-59ff77ba2cec",
   "metadata": {},
   "outputs": [
    {
     "data": {
      "text/plain": [
       "<torch.utils.data.dataloader.DataLoader at 0x133110670>"
      ]
     },
     "execution_count": 13,
     "metadata": {},
     "output_type": "execute_result"
    }
   ],
   "source": [
    "train_dataloader = DataLoader(\n",
    "    train_data,\n",
    "    batch_size=1,\n",
    "    shuffle=False\n",
    ")\n",
    "\n",
    "train_dataloader"
   ]
  },
  {
   "cell_type": "code",
   "execution_count": 14,
   "id": "d16d9774-f24d-444e-b787-1365d2898501",
   "metadata": {},
   "outputs": [
    {
     "data": {
      "text/plain": [
       "<torch.utils.data.dataloader.DataLoader at 0x133110670>"
      ]
     },
     "execution_count": 14,
     "metadata": {},
     "output_type": "execute_result"
    }
   ],
   "source": [
    "test_dataloader = DataLoader(\n",
    "    test_data,\n",
    "    batch_size=1,\n",
    "    shuffle=False\n",
    ")\n",
    "\n",
    "train_dataloader"
   ]
  },
  {
   "cell_type": "code",
   "execution_count": 15,
   "id": "6adf771b-246c-47ea-aff2-7604d77a46aa",
   "metadata": {},
   "outputs": [
    {
     "data": {
      "text/plain": [
       "torch.Size([270, 13])"
      ]
     },
     "execution_count": 15,
     "metadata": {},
     "output_type": "execute_result"
    }
   ],
   "source": [
    "torch.tensor(X, dtype=torch.float).shape"
   ]
  },
  {
   "cell_type": "code",
   "execution_count": 16,
   "id": "a55f9a82-83a6-4e13-a476-a5a7409912f0",
   "metadata": {},
   "outputs": [
    {
     "name": "stdout",
     "output_type": "stream",
     "text": [
      "MLP(\n",
      "  (layers): ModuleList(\n",
      "    (0): Linear(in_features=13, out_features=10, bias=True)\n",
      "    (1): Linear(in_features=10, out_features=5, bias=True)\n",
      "    (2): Linear(in_features=5, out_features=2, bias=True)\n",
      "    (3): ReLU()\n",
      "    (4): Linear(in_features=2, out_features=1, bias=True)\n",
      "    (5): Sigmoid()\n",
      "  )\n",
      ")\n"
     ]
    }
   ],
   "source": [
    "class MLP(nn.Module):\n",
    "    def __init__(self, input_size, layers_data: list):\n",
    "        super().__init__()\n",
    "\n",
    "        self.layers = nn.ModuleList()\n",
    "        self.input_size = input_size\n",
    "        for size, activation in layers_data:\n",
    "            self.layers.append(nn.Linear(input_size, size))\n",
    "            input_size = size\n",
    "            if activation is not None:\n",
    "                assert isinstance(activation, Module), \\\n",
    "                    \"Each tuples should contain a size (int) and a torch.nn.modules.Module.\"\n",
    "                self.layers.append(activation)        \n",
    "\n",
    "    def forward(self, input_data):\n",
    "        for layer in self.layers:\n",
    "            input_data = layer(input_data)\n",
    "        return input_data\n",
    "\n",
    "layer1, layer2, layer3 = 10, 5, 2\n",
    "output_layer = 1\n",
    "\n",
    "device = torch.device('cuda' if torch.cuda.is_available() else 'cpu')\n",
    "\n",
    "mlp = MLP(X.shape[1], [\n",
    "    (layer1, None),\n",
    "    (layer2, None),\n",
    "    (layer3, nn.ReLU()),\n",
    "    (output_layer, nn.Sigmoid())\n",
    "])\n",
    "\n",
    "mlp.to(device)\n",
    "\n",
    "print(mlp)"
   ]
  },
  {
   "cell_type": "code",
   "execution_count": 17,
   "id": "4d01df06-1085-4e2c-9bc4-c6476c8e0806",
   "metadata": {},
   "outputs": [
    {
     "data": {
      "text/plain": [
       "tensor([[0.6331],\n",
       "        [0.6931],\n",
       "        [0.6009],\n",
       "        [0.6071],\n",
       "        [0.6292],\n",
       "        [0.5970],\n",
       "        [0.6022],\n",
       "        [0.6085],\n",
       "        [0.6111],\n",
       "        [0.6404]], grad_fn=<SliceBackward0>)"
      ]
     },
     "execution_count": 17,
     "metadata": {},
     "output_type": "execute_result"
    }
   ],
   "source": [
    "mlp(torch.tensor(X, dtype=torch.float))[:10]"
   ]
  },
  {
   "cell_type": "code",
   "execution_count": 18,
   "id": "d5883162-f953-4e9a-90bb-d4520352fb54",
   "metadata": {},
   "outputs": [
    {
     "data": {
      "text/plain": [
       "tensor([[1.],\n",
       "        [1.],\n",
       "        [1.],\n",
       "        [1.],\n",
       "        [1.],\n",
       "        [1.],\n",
       "        [1.],\n",
       "        [1.],\n",
       "        [1.],\n",
       "        [1.]], grad_fn=<SliceBackward0>)"
      ]
     },
     "execution_count": 18,
     "metadata": {},
     "output_type": "execute_result"
    }
   ],
   "source": [
    "torch.round(mlp(torch.tensor(X, dtype=torch.float)))[:10]"
   ]
  },
  {
   "cell_type": "code",
   "execution_count": 19,
   "id": "8fd7f9bd-19d1-4d70-a168-20d9da02f657",
   "metadata": {},
   "outputs": [],
   "source": [
    "learning_rate = 0.001\n",
    "optimizer = optim.Adam(mlp.parameters(), lr=learning_rate)\n",
    "\n",
    "def binary_acc(y_pred, y_test):\n",
    "    y_pred_tag = torch.round(y_pred)\n",
    "\n",
    "    correct_results_sum = (y_pred_tag == y_test).sum().float()\n",
    "    acc = correct_results_sum/y_test.shape[0]\n",
    "    \n",
    "    return torch.round(acc * 100)"
   ]
  },
  {
   "cell_type": "code",
   "execution_count": 20,
   "id": "170c572e-f98b-4cde-943d-4e1499ff982c",
   "metadata": {},
   "outputs": [
    {
     "name": "stdout",
     "output_type": "stream",
     "text": [
      "Epoch 100: | Loss: 0.17991 | Acc: 91.08911\n",
      "Epoch 200: | Loss: 0.16574 | Acc: 90.59406\n",
      "Epoch 300: | Loss: 0.16896 | Acc: 91.08911\n",
      "Epoch 400: | Loss: 0.15508 | Acc: 90.09901\n",
      "Epoch 500: | Loss: 0.16328 | Acc: 89.60396\n",
      "Epoch 600: | Loss: 0.16320 | Acc: 89.60396\n",
      "Epoch 700: | Loss: 0.15459 | Acc: 90.59406\n",
      "Epoch 800: | Loss: 0.17126 | Acc: 90.09901\n",
      "Epoch 900: | Loss: 0.18202 | Acc: 87.12871\n",
      "Epoch 1000: | Loss: 0.16930 | Acc: 88.61386\n",
      "Finished Training\n"
     ]
    }
   ],
   "source": [
    "criterion = nn.BCELoss()\n",
    "epochs = 1000\n",
    "\n",
    "mlp.train()\n",
    "for epoch in range(1,epochs+1):  # loop over the dataset multiple times\n",
    "    epoch_loss = 0\n",
    "    epoch_acc = 0\n",
    "    for X_batch, y_batch in train_dataloader:\n",
    "        X_batch, y_batch = X_batch.to(device), y_batch.to(device)\n",
    "        # zero the parameter gradients\n",
    "        optimizer.zero_grad()\n",
    "        \n",
    "        # forward + backward + optimize\n",
    "        outputs = mlp(X_batch)\n",
    "        loss = criterion(outputs, y_batch.unsqueeze(-1))\n",
    "        acc = binary_acc(outputs, y_batch.unsqueeze(-1))\n",
    "        \n",
    "        loss.backward()\n",
    "        optimizer.step()\n",
    "        \n",
    "        epoch_loss += loss.item()\n",
    "        epoch_acc += acc.item()\n",
    "    \n",
    "    # print statistics\n",
    "    if epoch % 100 == 0:\n",
    "        print(f'Epoch {epoch+0:03}: | Loss: {epoch_loss/len(train_dataloader):.5f} | Acc: {epoch_acc/len(train_dataloader):.5f}')\n",
    "        \n",
    "print('Finished Training')"
   ]
  },
  {
   "cell_type": "code",
   "execution_count": 21,
   "id": "8676e6d4-9a04-4afa-b90c-cec8d0baa01e",
   "metadata": {},
   "outputs": [],
   "source": [
    "y_pred_list = []\n",
    "mlp.eval()\n",
    "with torch.no_grad():\n",
    "    for X_batch in test_dataloader:\n",
    "        X_batch = X_batch.to(device)\n",
    "        y_test_pred = mlp(X_batch)\n",
    "        y_pred_tag = torch.round(y_test_pred)\n",
    "        y_pred_list.append(y_pred_tag.cpu().numpy())\n",
    "\n",
    "y_pred_list = np.array([a.squeeze().tolist() for a in y_pred_list])"
   ]
  },
  {
   "cell_type": "code",
   "execution_count": 22,
   "id": "b063cdcb-fd56-48de-92ad-7a0361e8afc7",
   "metadata": {},
   "outputs": [
    {
     "data": {
      "text/plain": [
       "array([1., 1., 0., 0., 1., 0., 1., 0., 1., 1., 1., 0., 0., 0., 0., 1., 1.,\n",
       "       1., 1., 1., 1., 1., 0., 0., 1., 1., 1., 1., 0., 1., 1., 1., 0., 1.,\n",
       "       0., 0., 0., 1., 1., 1., 1., 1., 1., 0., 1., 1., 1., 0., 1., 1., 1.,\n",
       "       1., 1., 1., 1., 1., 0., 1., 0., 0., 1., 0., 0., 0., 1., 1., 1., 1.])"
      ]
     },
     "execution_count": 22,
     "metadata": {},
     "output_type": "execute_result"
    }
   ],
   "source": [
    "y_pred_list"
   ]
  },
  {
   "cell_type": "code",
   "execution_count": 23,
   "id": "7844f78c-39ef-43cd-bfcf-6973bb59aa78",
   "metadata": {},
   "outputs": [
    {
     "data": {
      "text/plain": [
       "array([1., 1., 0., 1., 0., 0., 0., 0., 1., 1., 1., 0., 0., 0., 0., 1., 1.,\n",
       "       0., 1., 1., 1., 1., 1., 0., 1., 1., 1., 0., 0., 1., 1., 0., 0., 1.,\n",
       "       0., 0., 1., 0., 1., 0., 1., 0., 1., 0., 1., 1., 1., 1., 1., 0., 0.,\n",
       "       1., 0., 1., 1., 1., 0., 1., 1., 0., 0., 0., 0., 1., 1., 1., 0., 1.])"
      ]
     },
     "execution_count": 23,
     "metadata": {},
     "output_type": "execute_result"
    }
   ],
   "source": [
    "y_test"
   ]
  },
  {
   "cell_type": "code",
   "execution_count": 24,
   "id": "a24eb0fb-9008-448b-b05b-267a58f96ae8",
   "metadata": {},
   "outputs": [
    {
     "data": {
      "text/plain": [
       "72.05882352941177"
      ]
     },
     "execution_count": 24,
     "metadata": {},
     "output_type": "execute_result"
    }
   ],
   "source": [
    "correct_results_sum = (y_pred_list == y_test).sum()\n",
    "acc = correct_results_sum/y_test.shape[0]\n",
    "acc*100"
   ]
  },
  {
   "cell_type": "code",
   "execution_count": 25,
   "id": "abb9d3b6-368b-4e4e-b22c-844e065d01f9",
   "metadata": {},
   "outputs": [
    {
     "data": {
      "text/plain": [
       "array([[17, 13],\n",
       "       [ 6, 32]])"
      ]
     },
     "execution_count": 25,
     "metadata": {},
     "output_type": "execute_result"
    }
   ],
   "source": [
    "from sklearn.metrics import confusion_matrix\n",
    "\n",
    "confusion_matrix(y_test, y_pred_list)\n"
   ]
  },
  {
   "cell_type": "code",
   "execution_count": null,
   "id": "0661a275-4148-4366-b092-871ead4aa42d",
   "metadata": {},
   "outputs": [],
   "source": []
  }
 ],
 "metadata": {
  "interpreter": {
   "hash": "a18adb6283b8f460ac5e882a451316581cf3f90d0eb86c780a8bc0de7f5003da"
  },
  "kernelspec": {
   "display_name": "Python 3.9.12 ('venv': venv)",
   "language": "python",
   "name": "python3"
  },
  "language_info": {
   "codemirror_mode": {
    "name": "ipython",
    "version": 3
   },
   "file_extension": ".py",
   "mimetype": "text/x-python",
   "name": "python",
   "nbconvert_exporter": "python",
   "pygments_lexer": "ipython3",
   "version": "3.9.12"
  }
 },
 "nbformat": 4,
 "nbformat_minor": 5
}
